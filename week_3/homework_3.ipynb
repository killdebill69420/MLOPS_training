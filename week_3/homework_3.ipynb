{
 "cells": [
  {
   "cell_type": "code",
   "id": "initial_id",
   "metadata": {
    "collapsed": true,
    "ExecuteTime": {
     "end_time": "2025-10-31T14:09:29.061053Z",
     "start_time": "2025-10-31T14:09:28.331738Z"
    }
   },
   "source": [
    "import pandas as pd\n",
    "import os\n",
    "import mlflow\n",
    "import yaml\n",
    "\n",
    "from sklearn.feature_extraction import DictVectorizer\n",
    "from sklearn.linear_model import LinearRegression\n",
    "from sklearn.metrics import mean_squared_error\n",
    "from math import sqrt"
   ],
   "outputs": [],
   "execution_count": 1
  },
  {
   "metadata": {
    "ExecuteTime": {
     "end_time": "2025-10-31T14:09:29.375944Z",
     "start_time": "2025-10-31T14:09:29.065596Z"
    }
   },
   "cell_type": "code",
   "source": [
    "mlflow.set_tracking_uri(\"http://localhost:5000\")\n",
    "mlflow.set_experiment(\"nyc-taxi-experiment\")\n",
    "categorical = ['PULocationID', 'DOLocationID']"
   ],
   "id": "e1124c44e039d8b1",
   "outputs": [],
   "execution_count": 2
  },
  {
   "metadata": {
    "ExecuteTime": {
     "end_time": "2025-10-31T14:09:29.690158Z",
     "start_time": "2025-10-31T14:09:29.380402Z"
    }
   },
   "cell_type": "code",
   "source": [
    "df = pd.read_parquet(\"./data/yellow_tripdata_2023-03.parquet\")\n",
    "num_rows = len(df)\n",
    "print(num_rows)"
   ],
   "id": "7123bc9364d879e2",
   "outputs": [
    {
     "name": "stdout",
     "output_type": "stream",
     "text": [
      "3403766\n"
     ]
    }
   ],
   "execution_count": 3
  },
  {
   "metadata": {
    "ExecuteTime": {
     "end_time": "2025-10-31T14:09:29.699154Z",
     "start_time": "2025-10-31T14:09:29.694545Z"
    }
   },
   "cell_type": "code",
   "source": [
    "def read_dataframe(filename):\n",
    "    df = pd.read_parquet(filename)\n",
    "\n",
    "    df['duration'] = df.tpep_dropoff_datetime - df.tpep_pickup_datetime\n",
    "    df.duration = df.duration.dt.total_seconds() / 60\n",
    "\n",
    "    df = df[(df.duration >= 1) & (df.duration <= 60)]\n",
    "\n",
    "    df[categorical] = df[categorical].astype(str)\n",
    "\n",
    "    return df"
   ],
   "id": "b02357b003a53818",
   "outputs": [],
   "execution_count": 4
  },
  {
   "metadata": {
    "ExecuteTime": {
     "end_time": "2025-10-31T14:09:31.593104Z",
     "start_time": "2025-10-31T14:09:29.751066Z"
    }
   },
   "cell_type": "code",
   "source": [
    "df_train = read_dataframe(\"./data/yellow_tripdata_2023-03.parquet\")\n",
    "num_rows = len(df_train)\n",
    "print(num_rows)"
   ],
   "id": "d700c6162a5bd675",
   "outputs": [
    {
     "name": "stdout",
     "output_type": "stream",
     "text": [
      "3316216\n"
     ]
    }
   ],
   "execution_count": 5
  },
  {
   "metadata": {
    "ExecuteTime": {
     "end_time": "2025-10-31T14:10:24.073359Z",
     "start_time": "2025-10-31T14:09:31.597997Z"
    }
   },
   "cell_type": "code",
   "source": [
    "categorical = ['PULocationID', 'DOLocationID']\n",
    "df_train[categorical] = df_train[categorical].astype('str')\n",
    "train_dicts = df_train[categorical].to_dict(orient='records')\n",
    "\n",
    "dv = DictVectorizer()\n",
    "\n",
    "X_train = dv.fit_transform(train_dicts)\n",
    "\n",
    "target = 'duration'\n",
    "y_train = df_train[target].values\n",
    "\n",
    "with mlflow.start_run() as run:\n",
    "    lr = LinearRegression()\n",
    "    lr.fit(X_train, y_train)\n",
    "\n",
    "    mlflow.sklearn.log_model(lr, artifact_path=\"model\")\n",
    "\n",
    "    y_pred = lr.predict(X_train)\n",
    "    mse = mean_squared_error(y_train, y_pred, squared=False)\n",
    "    print(lr.intercept_)\n",
    "\n",
    "    model_uri = f\"runs:/{run.info.run_id}/model\"\n",
    "    mlflow.register_model(model_uri=model_uri, name=\"Homework_3\")\n"
   ],
   "id": "557da13a0ca113ce",
   "outputs": [
    {
     "name": "stderr",
     "output_type": "stream",
     "text": [
      "2025/10/31 15:10:23 WARNING mlflow.models.model: Model logged without a signature and input example. Please set `input_example` parameter when logging the model to auto infer the model signature.\n",
      "Successfully registered model 'Homework_3'.\n",
      "2025/10/31 15:10:24 INFO mlflow.store.model_registry.abstract_store: Waiting up to 300 seconds for model version to finish creation. Model name: Homework_3, version 1\n",
      "Created version '1' of model 'Homework_3'.\n",
      "2025/10/31 15:10:24 INFO mlflow.tracking._tracking_service.client: 🏃 View run zealous-wasp-926 at: http://localhost:5000/#/experiments/1/runs/660fc0dcdcc1438a93810b9f8b63d864.\n",
      "2025/10/31 15:10:24 INFO mlflow.tracking._tracking_service.client: 🧪 View experiment at: http://localhost:5000/#/experiments/1.\n"
     ]
    },
    {
     "name": "stdout",
     "output_type": "stream",
     "text": [
      "24.774803905297286\n"
     ]
    }
   ],
   "execution_count": 6
  },
  {
   "metadata": {
    "ExecuteTime": {
     "end_time": "2025-10-31T14:10:24.237561Z",
     "start_time": "2025-10-31T14:10:24.082Z"
    }
   },
   "cell_type": "code",
   "source": [
    "local_path = mlflow.artifacts.download_artifacts(model_uri)\n",
    "mlmodel_path = os.path.join(local_path, \"MLmodel\")\n",
    "\n",
    "with open(mlmodel_path, \"r\") as f:\n",
    "    mlmodel_data = yaml.safe_load(f)\n",
    "\n",
    "model_size = mlmodel_data.get(\"model_size_bytes\", None)\n",
    "print(\"Model size (bytes):\", model_size)"
   ],
   "id": "d6e02cd3e6691d61",
   "outputs": [
    {
     "data": {
      "text/plain": [
       "Downloading artifacts:   0%|          | 0/5 [00:00<?, ?it/s]"
      ],
      "application/vnd.jupyter.widget-view+json": {
       "version_major": 2,
       "version_minor": 0,
       "model_id": "929f46c76e3a47beb55189c207e0f0cd"
      }
     },
     "metadata": {},
     "output_type": "display_data"
    },
    {
     "name": "stdout",
     "output_type": "stream",
     "text": [
      "Model size (bytes): 4500\n"
     ]
    }
   ],
   "execution_count": 7
  },
  {
   "metadata": {
    "ExecuteTime": {
     "end_time": "2025-10-31T14:10:24.381599Z",
     "start_time": "2025-10-31T14:10:24.379444Z"
    }
   },
   "cell_type": "code",
   "source": "",
   "id": "df1639a5e100d72c",
   "outputs": [],
   "execution_count": null
  }
 ],
 "metadata": {
  "kernelspec": {
   "display_name": "Python 3",
   "language": "python",
   "name": "python3"
  },
  "language_info": {
   "codemirror_mode": {
    "name": "ipython",
    "version": 2
   },
   "file_extension": ".py",
   "mimetype": "text/x-python",
   "name": "python",
   "nbconvert_exporter": "python",
   "pygments_lexer": "ipython2",
   "version": "2.7.6"
  }
 },
 "nbformat": 4,
 "nbformat_minor": 5
}
