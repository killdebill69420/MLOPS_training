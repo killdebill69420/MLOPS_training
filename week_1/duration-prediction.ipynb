{
 "cells": [
  {
   "cell_type": "raw",
   "id": "5815183db2b5e125",
   "metadata": {},
   "source": []
  },
  {
   "cell_type": "code",
   "id": "f41b27c7",
   "metadata": {
    "ExecuteTime": {
     "end_time": "2025-10-20T10:56:24.544541Z",
     "start_time": "2025-10-20T10:56:24.308190Z"
    }
   },
   "source": [
    "!python -V"
   ],
   "outputs": [
    {
     "name": "stdout",
     "output_type": "stream",
     "text": [
      "Python 3.8.10\r\n"
     ]
    }
   ],
   "execution_count": 1
  },
  {
   "cell_type": "code",
   "id": "6c52ccfc74218027",
   "metadata": {},
   "source": [
    "!pip install -U scikit-learn\n",
    "!pip install pandas\n",
    "!pip install pyarrow\n",
    "!pip install fastparquet"
   ],
   "outputs": [],
   "execution_count": null
  },
  {
   "cell_type": "code",
   "id": "e207605e7d130220",
   "metadata": {
    "ExecuteTime": {
     "end_time": "2025-10-20T10:56:30.528454Z",
     "start_time": "2025-10-20T10:56:30.201992Z"
    }
   },
   "source": [
    "import pandas as pd"
   ],
   "outputs": [],
   "execution_count": 3
  },
  {
   "metadata": {
    "ExecuteTime": {
     "end_time": "2025-10-20T10:56:30.889356Z",
     "start_time": "2025-10-20T10:56:30.536484Z"
    }
   },
   "cell_type": "code",
   "source": [
    "from sklearn.feature_extraction import DictVectorizer\n",
    "from sklearn.linear_model import LinearRegression\n",
    "\n",
    "from sklearn.metrics import mean_squared_error\n",
    "from math import sqrt"
   ],
   "id": "a212e2f336635f81",
   "outputs": [],
   "execution_count": 4
  },
  {
   "metadata": {
    "ExecuteTime": {
     "end_time": "2025-10-20T10:56:30.900317Z",
     "start_time": "2025-10-20T10:56:30.897364Z"
    }
   },
   "cell_type": "code",
   "source": [
    "def read_dataframe(filename):\n",
    "    df = pd.read_parquet(filename)\n",
    "\n",
    "    return df"
   ],
   "id": "928a45fbc164cd53",
   "outputs": [],
   "execution_count": 5
  },
  {
   "metadata": {
    "ExecuteTime": {
     "end_time": "2025-10-20T10:56:31.465030Z",
     "start_time": "2025-10-20T10:56:30.949703Z"
    }
   },
   "cell_type": "code",
   "source": [
    "# Q1\n",
    "df_train = read_dataframe('./data/yellow_tripdata_2023-01.parquet')\n",
    "df_val = read_dataframe('./data/yellow_tripdata_2023-02.parquet')\n",
    "\n",
    "num_columns = df_train.shape[1]\n",
    "print(num_columns)"
   ],
   "id": "62682910aa2b708c",
   "outputs": [
    {
     "name": "stdout",
     "output_type": "stream",
     "text": [
      "19\n"
     ]
    }
   ],
   "execution_count": 6
  },
  {
   "metadata": {
    "ExecuteTime": {
     "end_time": "2025-10-20T11:02:15.847788Z",
     "start_time": "2025-10-20T11:02:06.661959Z"
    }
   },
   "cell_type": "code",
   "source": [
    "df_train['duration'] = df_train.tpep_dropoff_datetime - df_train.tpep_pickup_datetime\n",
    "df_train.duration = df_train.duration.apply(lambda td: td.total_seconds() / 60)\n",
    "\n",
    "df_val['duration'] = df_val.tpep_dropoff_datetime - df_val.tpep_pickup_datetime\n",
    "df_val.duration = df_val.duration.apply(lambda td: td.total_seconds() / 60)"
   ],
   "id": "50b2ce8e9ae20070",
   "outputs": [],
   "execution_count": 14
  },
  {
   "metadata": {
    "ExecuteTime": {
     "end_time": "2025-10-20T10:56:36.882958Z",
     "start_time": "2025-10-20T10:56:36.860925Z"
    }
   },
   "cell_type": "code",
   "source": [
    "# Q2\n",
    "df_train.duration.std()"
   ],
   "id": "95307a1ab700c328",
   "outputs": [
    {
     "data": {
      "text/plain": [
       "42.59435124195458"
      ]
     },
     "execution_count": 8,
     "metadata": {},
     "output_type": "execute_result"
    }
   ],
   "execution_count": 8
  },
  {
   "metadata": {
    "ExecuteTime": {
     "end_time": "2025-10-20T10:56:36.937303Z",
     "start_time": "2025-10-20T10:56:36.926384Z"
    }
   },
   "cell_type": "code",
   "source": [
    "# Q3\n",
    "((df_train.duration >= 1) & (df_train.duration <= 60)).mean()"
   ],
   "id": "a1082f5840ee6747",
   "outputs": [
    {
     "data": {
      "text/plain": [
       "0.9812202822125979"
      ]
     },
     "execution_count": 9,
     "metadata": {},
     "output_type": "execute_result"
    }
   ],
   "execution_count": 9
  },
  {
   "metadata": {
    "ExecuteTime": {
     "end_time": "2025-10-20T10:56:46.981443Z",
     "start_time": "2025-10-20T10:56:36.989379Z"
    }
   },
   "cell_type": "code",
   "source": [
    "# Q4\n",
    "categorical = ['PULocationID', 'DOLocationID']\n",
    "df_train[categorical] = df_train[categorical].astype('str')\n",
    "train_dicts = df_train[categorical].to_dict(orient='records')\n",
    "\n",
    "dv = DictVectorizer()\n",
    "\n",
    "X_train = dv.fit_transform(train_dicts)\n",
    "\n",
    "print(X_train.shape)"
   ],
   "id": "9633f1c03cd4c8fe",
   "outputs": [
    {
     "name": "stdout",
     "output_type": "stream",
     "text": [
      "(3066766, 518)\n"
     ]
    }
   ],
   "execution_count": 10
  },
  {
   "metadata": {
    "ExecuteTime": {
     "end_time": "2025-10-20T10:57:15.188131Z",
     "start_time": "2025-10-20T10:56:46.989452Z"
    }
   },
   "cell_type": "code",
   "source": [
    "# Q5\n",
    "target = 'duration'\n",
    "y_train = df_train[target].values\n",
    "\n",
    "lr = LinearRegression()\n",
    "lr.fit(X_train, y_train)\n",
    "\n",
    "y_pred = lr.predict(X_train)\n",
    "mse = mean_squared_error(y_train, y_pred, squared=False)\n",
    "print(sqrt(mse))"
   ],
   "id": "ac48aad645231ac6",
   "outputs": [
    {
     "name": "stdout",
     "output_type": "stream",
     "text": [
      "6.480470485970359\n"
     ]
    }
   ],
   "execution_count": 11
  },
  {
   "metadata": {
    "ExecuteTime": {
     "end_time": "2025-10-20T11:02:52.830526Z",
     "start_time": "2025-10-20T11:02:23.060444Z"
    }
   },
   "cell_type": "code",
   "source": [
    "# Q6\n",
    "df_val[categorical] = df_val[categorical].astype('str')\n",
    "val_dicts = df_val[categorical].to_dict(orient='records')\n",
    "\n",
    "X_val = dv.transform(val_dicts)\n",
    "\n",
    "y_val = df_val[target].values\n",
    "\n",
    "lr.fit(X_val, y_val)\n",
    "\n",
    "y_pred = lr.predict(X_val)\n",
    "mse = mean_squared_error(y_val, y_pred, squared=False)\n",
    "print(sqrt(mse))"
   ],
   "id": "cc75f387961c4a52",
   "outputs": [
    {
     "name": "stdout",
     "output_type": "stream",
     "text": [
      "6.497695020706183\n"
     ]
    }
   ],
   "execution_count": 16
  }
 ],
 "metadata": {
  "kernelspec": {
   "display_name": "Python 3 (ipykernel)",
   "language": "python",
   "name": "python3"
  },
  "language_info": {
   "codemirror_mode": {
    "name": "ipython",
    "version": 3
   },
   "file_extension": ".py",
   "mimetype": "text/x-python",
   "name": "python",
   "nbconvert_exporter": "python",
   "pygments_lexer": "ipython3",
   "version": "3.9.12"
  }
 },
 "nbformat": 4,
 "nbformat_minor": 5
}
