{
 "cells": [
  {
   "cell_type": "code",
   "id": "initial_id",
   "metadata": {
    "collapsed": true,
    "ExecuteTime": {
     "end_time": "2025-10-27T09:32:49.129892Z",
     "start_time": "2025-10-27T09:32:47.310183Z"
    }
   },
   "source": "!mlflow --version",
   "outputs": [
    {
     "name": "stdout",
     "output_type": "stream",
     "text": [
      "mlflow, version 2.17.2\r\n"
     ]
    }
   ],
   "execution_count": 1
  },
  {
   "metadata": {
    "ExecuteTime": {
     "end_time": "2025-10-27T09:39:29.874265Z",
     "start_time": "2025-10-27T09:39:27.978486Z"
    }
   },
   "cell_type": "code",
   "source": [
    "!python3 preprocess_data.py --raw_data_path ./data --dest_path ./output\n",
    "!ls -1 ./output | wc -l"
   ],
   "id": "f1849156653d2f81",
   "outputs": [
    {
     "name": "stdout",
     "output_type": "stream",
     "text": [
      "4\r\n"
     ]
    }
   ],
   "execution_count": 5
  },
  {
   "metadata": {
    "ExecuteTime": {
     "end_time": "2025-10-27T09:49:26.185440Z",
     "start_time": "2025-10-27T09:49:08.419999Z"
    }
   },
   "cell_type": "code",
   "source": "!python3 train.py",
   "id": "2b7fec39bd483509",
   "outputs": [
    {
     "name": "stdout",
     "output_type": "stream",
     "text": [
      "2025/10/27 11:49:10 INFO mlflow.tracking.fluent: Autologging successfully enabled for sklearn.\r\n",
      "2025/10/27 11:49:10 WARNING mlflow.sklearn: Failed to log training dataset information to MLflow Tracking. Reason: 'numpy.ndarray' object has no attribute 'toarray'\r\n",
      "min_samples_split: 2\r\n"
     ]
    }
   ],
   "execution_count": 9
  },
  {
   "metadata": {},
   "cell_type": "code",
   "outputs": [],
   "execution_count": null,
   "source": "!mlflow ui --backend-store-uri sqlite:///mlflow.db --default-artifact-root ./artifacts",
   "id": "3d5e8d94f6418744"
  },
  {
   "metadata": {
    "ExecuteTime": {
     "end_time": "2025-10-27T10:24:55.031559Z",
     "start_time": "2025-10-27T10:23:55.243498Z"
    }
   },
   "cell_type": "code",
   "source": "!python3 hpo.py",
   "id": "86d3be6f9aaddc70",
   "outputs": [
    {
     "name": "stdout",
     "output_type": "stream",
     "text": [
      "  0%|                                    | 0/15 [00:00<?, ?trial/s, best loss=?]2025/10/27 12:24:02 INFO mlflow.tracking._tracking_service.client: 🏃 View run mysterious-zebra-996 at: http://127.0.0.1:5000/#/experiments/3/runs/0374d0f04f8b46c880af1050e455bd24.\r\n",
      "\r\n",
      "2025/10/27 12:24:02 INFO mlflow.tracking._tracking_service.client: 🧪 View experiment at: http://127.0.0.1:5000/#/experiments/3.\r\n",
      "\r\n",
      "  7%|▋          | 1/15 [00:06<01:28,  6.33s/trial, best loss: 5.370086069268862]2025/10/27 12:24:03 INFO mlflow.tracking._tracking_service.client: 🏃 View run caring-conch-23 at: http://127.0.0.1:5000/#/experiments/3/runs/103f1b54a28a4935aca1a7631605f79d.\r\n",
      "\r\n",
      "2025/10/27 12:24:03 INFO mlflow.tracking._tracking_service.client: 🧪 View experiment at: http://127.0.0.1:5000/#/experiments/3.\r\n",
      "\r\n",
      " 13%|█▍         | 2/15 [00:06<00:36,  2.80s/trial, best loss: 5.370086069268862]2025/10/27 12:24:03 INFO mlflow.tracking._tracking_service.client: 🏃 View run polite-conch-2 at: http://127.0.0.1:5000/#/experiments/3/runs/6a4f27407d12426bbf396dababa250b0.\r\n",
      "\r\n",
      "2025/10/27 12:24:03 INFO mlflow.tracking._tracking_service.client: 🧪 View experiment at: http://127.0.0.1:5000/#/experiments/3.\r\n",
      "\r\n",
      " 20%|██▏        | 3/15 [00:07<00:20,  1.74s/trial, best loss: 5.370086069268862]2025/10/27 12:24:07 INFO mlflow.tracking._tracking_service.client: 🏃 View run agreeable-hound-874 at: http://127.0.0.1:5000/#/experiments/3/runs/919e842159c1494eb791367a1945e52d.\r\n",
      "\r\n",
      "2025/10/27 12:24:07 INFO mlflow.tracking._tracking_service.client: 🧪 View experiment at: http://127.0.0.1:5000/#/experiments/3.\r\n",
      "\r\n",
      " 27%|██▉        | 4/15 [00:11<00:30,  2.76s/trial, best loss: 5.357490752366866]2025/10/27 12:24:10 INFO mlflow.tracking._tracking_service.client: 🏃 View run angry-ape-665 at: http://127.0.0.1:5000/#/experiments/3/runs/04ad60f6d4b843fbbbe3b2e49be340eb.\r\n",
      "\r\n",
      "2025/10/27 12:24:10 INFO mlflow.tracking._tracking_service.client: 🧪 View experiment at: http://127.0.0.1:5000/#/experiments/3.\r\n",
      "\r\n",
      " 33%|███▋       | 5/15 [00:13<00:25,  2.58s/trial, best loss: 5.357490752366866]2025/10/27 12:24:18 INFO mlflow.tracking._tracking_service.client: 🏃 View run blushing-gnat-233 at: http://127.0.0.1:5000/#/experiments/3/runs/81f8cdc074704080b356d2e309ada0bb.\r\n",
      "\r\n",
      "2025/10/27 12:24:18 INFO mlflow.tracking._tracking_service.client: 🧪 View experiment at: http://127.0.0.1:5000/#/experiments/3.\r\n",
      "\r\n",
      " 40%|████▍      | 6/15 [00:21<00:40,  4.45s/trial, best loss: 5.354695072530291]2025/10/27 12:24:27 INFO mlflow.tracking._tracking_service.client: 🏃 View run suave-grub-320 at: http://127.0.0.1:5000/#/experiments/3/runs/a16b7645e9814e47ba469538d12ee155.\r\n",
      "\r\n",
      "2025/10/27 12:24:27 INFO mlflow.tracking._tracking_service.client: 🧪 View experiment at: http://127.0.0.1:5000/#/experiments/3.\r\n",
      "\r\n",
      " 47%|█████▏     | 7/15 [00:31<00:49,  6.13s/trial, best loss: 5.354695072530291]2025/10/27 12:24:28 INFO mlflow.tracking._tracking_service.client: 🏃 View run adventurous-roo-605 at: http://127.0.0.1:5000/#/experiments/3/runs/e7eb1686f9b745e79735e0c9f0a3de60.\r\n",
      "\r\n",
      "2025/10/27 12:24:28 INFO mlflow.tracking._tracking_service.client: 🧪 View experiment at: http://127.0.0.1:5000/#/experiments/3.\r\n",
      "\r\n",
      " 53%|█████▊     | 8/15 [00:32<00:31,  4.55s/trial, best loss: 5.354695072530291]2025/10/27 12:24:35 INFO mlflow.tracking._tracking_service.client: 🏃 View run flawless-sow-95 at: http://127.0.0.1:5000/#/experiments/3/runs/16ab08ce56f844cda9f1c521187589a2.\r\n",
      "\r\n",
      "2025/10/27 12:24:35 INFO mlflow.tracking._tracking_service.client: 🧪 View experiment at: http://127.0.0.1:5000/#/experiments/3.\r\n",
      "\r\n",
      " 60%|██████▌    | 9/15 [00:38<00:30,  5.07s/trial, best loss: 5.354695072530291]2025/10/27 12:24:39 INFO mlflow.tracking._tracking_service.client: 🏃 View run stately-vole-697 at: http://127.0.0.1:5000/#/experiments/3/runs/fa821c6122014b11b18e042ef5265b10.\r\n",
      "\r\n",
      "2025/10/27 12:24:39 INFO mlflow.tracking._tracking_service.client: 🧪 View experiment at: http://127.0.0.1:5000/#/experiments/3.\r\n",
      "\r\n",
      " 67%|██████▋   | 10/15 [00:43<00:24,  4.88s/trial, best loss: 5.354695072530291]2025/10/27 12:24:42 INFO mlflow.tracking._tracking_service.client: 🏃 View run wistful-conch-215 at: http://127.0.0.1:5000/#/experiments/3/runs/0ab594e850ad409f90edae5c5d635bd5.\r\n",
      "\r\n",
      "2025/10/27 12:24:42 INFO mlflow.tracking._tracking_service.client: 🧪 View experiment at: http://127.0.0.1:5000/#/experiments/3.\r\n",
      "\r\n",
      " 73%|███████▎  | 11/15 [00:46<00:17,  4.37s/trial, best loss: 5.335419588556921]2025/10/27 12:24:45 INFO mlflow.tracking._tracking_service.client: 🏃 View run sedate-mouse-292 at: http://127.0.0.1:5000/#/experiments/3/runs/55340c694b1046bcbf2cb1906c13919e.\r\n",
      "\r\n",
      "2025/10/27 12:24:45 INFO mlflow.tracking._tracking_service.client: 🧪 View experiment at: http://127.0.0.1:5000/#/experiments/3.\r\n",
      "\r\n",
      " 80%|████████  | 12/15 [00:49<00:11,  3.90s/trial, best loss: 5.335419588556921]2025/10/27 12:24:46 INFO mlflow.tracking._tracking_service.client: 🏃 View run gaudy-shrike-819 at: http://127.0.0.1:5000/#/experiments/3/runs/fbf0bf3b9ada469cba9b0194e56f13af.\r\n",
      "\r\n",
      "2025/10/27 12:24:46 INFO mlflow.tracking._tracking_service.client: 🧪 View experiment at: http://127.0.0.1:5000/#/experiments/3.\r\n",
      "\r\n",
      " 87%|████████▋ | 13/15 [00:50<00:06,  3.08s/trial, best loss: 5.335419588556921]2025/10/27 12:24:49 INFO mlflow.tracking._tracking_service.client: 🏃 View run abundant-sponge-471 at: http://127.0.0.1:5000/#/experiments/3/runs/01198d7eab9d4e578fa5dcde130b5c42.\r\n",
      "\r\n",
      "2025/10/27 12:24:49 INFO mlflow.tracking._tracking_service.client: 🧪 View experiment at: http://127.0.0.1:5000/#/experiments/3.\r\n",
      "\r\n",
      " 93%|█████████▎| 14/15 [00:53<00:03,  3.08s/trial, best loss: 5.335419588556921]2025/10/27 12:24:54 INFO mlflow.tracking._tracking_service.client: 🏃 View run caring-wolf-975 at: http://127.0.0.1:5000/#/experiments/3/runs/aad50069400045e6a860fa95bc0c17bd.\r\n",
      "\r\n",
      "2025/10/27 12:24:54 INFO mlflow.tracking._tracking_service.client: 🧪 View experiment at: http://127.0.0.1:5000/#/experiments/3.\r\n",
      "\r\n",
      "100%|██████████| 15/15 [00:58<00:00,  3.88s/trial, best loss: 5.335419588556921]\r\n"
     ]
    }
   ],
   "execution_count": 14
  },
  {
   "metadata": {
    "ExecuteTime": {
     "end_time": "2025-10-27T10:54:16.094459Z",
     "start_time": "2025-10-27T10:53:26.213443Z"
    }
   },
   "cell_type": "code",
   "source": "!python3 register_model.py",
   "id": "19112769d84604a9",
   "outputs": [
    {
     "name": "stdout",
     "output_type": "stream",
     "text": [
      "2025/10/27 12:53:27 WARNING mlflow.sklearn: Failed to log training dataset information to MLflow Tracking. Reason: 'numpy.ndarray' object has no attribute 'toarray'\r\n",
      "2025/10/27 12:53:34 INFO mlflow.tracking._tracking_service.client: 🏃 View run classy-hen-527 at: http://127.0.0.1:5000/#/experiments/4/runs/f533ebd7354746508ff889e1df7ff764.\r\n",
      "2025/10/27 12:53:34 INFO mlflow.tracking._tracking_service.client: 🧪 View experiment at: http://127.0.0.1:5000/#/experiments/4.\r\n",
      "2025/10/27 12:53:35 WARNING mlflow.sklearn: Failed to log training dataset information to MLflow Tracking. Reason: 'numpy.ndarray' object has no attribute 'toarray'\r\n",
      "2025/10/27 12:53:41 INFO mlflow.tracking._tracking_service.client: 🏃 View run upset-seal-973 at: http://127.0.0.1:5000/#/experiments/4/runs/74f2417df01442fdac078ad2399cb142.\r\n",
      "2025/10/27 12:53:41 INFO mlflow.tracking._tracking_service.client: 🧪 View experiment at: http://127.0.0.1:5000/#/experiments/4.\r\n",
      "2025/10/27 12:53:41 WARNING mlflow.sklearn: Failed to log training dataset information to MLflow Tracking. Reason: 'numpy.ndarray' object has no attribute 'toarray'\r\n",
      "2025/10/27 12:53:54 INFO mlflow.tracking._tracking_service.client: 🏃 View run adorable-panda-417 at: http://127.0.0.1:5000/#/experiments/4/runs/5de418d77cbb4bcfb3368ddf842cc762.\r\n",
      "2025/10/27 12:53:54 INFO mlflow.tracking._tracking_service.client: 🧪 View experiment at: http://127.0.0.1:5000/#/experiments/4.\r\n",
      "2025/10/27 12:53:54 WARNING mlflow.sklearn: Failed to log training dataset information to MLflow Tracking. Reason: 'numpy.ndarray' object has no attribute 'toarray'\r\n",
      "2025/10/27 12:54:06 INFO mlflow.tracking._tracking_service.client: 🏃 View run spiffy-pig-339 at: http://127.0.0.1:5000/#/experiments/4/runs/b47d014d5fc041108ec83487b1b10bb0.\r\n",
      "2025/10/27 12:54:06 INFO mlflow.tracking._tracking_service.client: 🧪 View experiment at: http://127.0.0.1:5000/#/experiments/4.\r\n",
      "2025/10/27 12:54:07 WARNING mlflow.sklearn: Failed to log training dataset information to MLflow Tracking. Reason: 'numpy.ndarray' object has no attribute 'toarray'\r\n",
      "2025/10/27 12:54:15 INFO mlflow.tracking._tracking_service.client: 🏃 View run unleashed-seal-487 at: http://127.0.0.1:5000/#/experiments/4/runs/47453088a0c14e3e968c45e5dffdb449.\r\n",
      "2025/10/27 12:54:15 INFO mlflow.tracking._tracking_service.client: 🧪 View experiment at: http://127.0.0.1:5000/#/experiments/4.\r\n",
      "<Run: data=<RunData: metrics={'test_rmse': 5.5921322796760755,\r\n",
      " 'training_mean_absolute_error': 3.2487582305772666,\r\n",
      " 'training_mean_squared_error': 24.20238334680275,\r\n",
      " 'training_r2_score': 0.7027753287840568,\r\n",
      " 'training_root_mean_squared_error': 4.919591786602091,\r\n",
      " 'training_score': 0.7027753287840568,\r\n",
      " 'val_rmse': 5.355041749098929}, params={'bootstrap': 'True',\r\n",
      " 'ccp_alpha': '0.0',\r\n",
      " 'criterion': 'squared_error',\r\n",
      " 'max_depth': '20',\r\n",
      " 'max_features': '1.0',\r\n",
      " 'max_leaf_nodes': 'None',\r\n",
      " 'max_samples': 'None',\r\n",
      " 'min_impurity_decrease': '0.0',\r\n",
      " 'min_samples_leaf': '1',\r\n",
      " 'min_samples_split': '9',\r\n",
      " 'min_weight_fraction_leaf': '0.0',\r\n",
      " 'n_estimators': '19',\r\n",
      " 'n_jobs': 'None',\r\n",
      " 'oob_score': 'False',\r\n",
      " 'random_state': '42',\r\n",
      " 'verbose': '0',\r\n",
      " 'warm_start': 'False'}, tags={'estimator_class': 'sklearn.ensemble._forest.RandomForestRegressor',\r\n",
      " 'estimator_name': 'RandomForestRegressor',\r\n",
      " 'mlflow.log-model.history': '[{\"run_id\": \"47453088a0c14e3e968c45e5dffdb449\", '\r\n",
      "                             '\"artifact_path\": \"model\", \"utc_time_created\": '\r\n",
      "                             '\"2025-10-27 10:54:11.976034\", \"model_uuid\": '\r\n",
      "                             '\"ef612e7f7b8a43e19eba8de393e73179\", \"flavors\": '\r\n",
      "                             '{\"python_function\": {\"model_path\": \"model.pkl\", '\r\n",
      "                             '\"predict_fn\": \"predict\", \"loader_module\": '\r\n",
      "                             '\"mlflow.sklearn\", \"python_version\": \"3.8.10\", '\r\n",
      "                             '\"env\": {\"conda\": \"conda.yaml\", \"virtualenv\": '\r\n",
      "                             '\"python_env.yaml\"}}, \"sklearn\": '\r\n",
      "                             '{\"pickled_model\": \"model.pkl\", '\r\n",
      "                             '\"sklearn_version\": \"1.3.2\", '\r\n",
      "                             '\"serialization_format\": \"cloudpickle\", \"code\": '\r\n",
      "                             'null}}}]',\r\n",
      " 'mlflow.runName': 'unleashed-seal-487',\r\n",
      " 'mlflow.source.git.commit': '2fd0080157a64a653ef35a9c95438cdf34befcd6',\r\n",
      " 'mlflow.source.name': 'register_model.py',\r\n",
      " 'mlflow.source.type': 'LOCAL',\r\n",
      " 'mlflow.user': 'kirill'}>, info=<RunInfo: artifact_uri=('/home/kirill/ML '\r\n",
      " 'OPS/MLOps_training/week_2/artifacts/4/47453088a0c14e3e968c45e5dffdb449/artifacts'), end_time=1761562455537, experiment_id='4', lifecycle_stage='active', run_id='47453088a0c14e3e968c45e5dffdb449', run_name='unleashed-seal-487', run_uuid='47453088a0c14e3e968c45e5dffdb449', start_time=1761562446796, status='FINISHED', user_id='kirill'>, inputs=<RunInputs: dataset_inputs=[<DatasetInput: dataset=<Dataset: digest='7edda543', name='dataset', profile=('{\"features_shape\": [62574, 5702], \"features_size\": 356796948, '\r\n",
      " '\"features_nbytes\": 2854375584}'), schema=('{\"mlflow_tensorspec\": {\"features\": \"[{\\\\\"type\\\\\": \\\\\"tensor\\\\\", '\r\n",
      " '\\\\\"tensor-spec\\\\\": {\\\\\"dtype\\\\\": \\\\\"float64\\\\\", \\\\\"shape\\\\\": [-1, 5702]}}]\", '\r\n",
      " '\"targets\": null}}'), source=('{\"tags\": {\"mlflow.user\": \"kirill\", \"mlflow.source.name\": \"train.py\", '\r\n",
      " '\"mlflow.source.type\": \"LOCAL\", \"mlflow.source.git.commit\": '\r\n",
      " '\"2fd0080157a64a653ef35a9c95438cdf34befcd6\"}}'), source_type='code'>, tags=[<InputTag: key='mlflow.data.context', value='eval'>]>,\r\n",
      " <DatasetInput: dataset=<Dataset: digest='5a2feb47', name='dataset', profile=('{\"features_shape\": [69392, 5702], \"features_size\": 395673184, '\r\n",
      " '\"features_nbytes\": 3165385472}'), schema=('{\"mlflow_tensorspec\": {\"features\": \"[{\\\\\"type\\\\\": \\\\\"tensor\\\\\", '\r\n",
      " '\\\\\"tensor-spec\\\\\": {\\\\\"dtype\\\\\": \\\\\"float64\\\\\", \\\\\"shape\\\\\": [-1, 5702]}}]\", '\r\n",
      " '\"targets\": null}}'), source=('{\"tags\": {\"mlflow.user\": \"kirill\", \"mlflow.source.name\": '\r\n",
      " '\"register_model.py\", \"mlflow.source.type\": \"LOCAL\", '\r\n",
      " '\"mlflow.source.git.commit\": \"2fd0080157a64a653ef35a9c95438cdf34befcd6\"}}'), source_type='code'>, tags=[<InputTag: key='mlflow.data.context', value='eval'>]>]>>\r\n",
      "Registered model 'nyc-taxi-trips' already exists. Creating a new version of this model...\r\n",
      "2025/10/27 12:54:15 INFO mlflow.store.model_registry.abstract_store: Waiting up to 300 seconds for model version to finish creation. Model name: nyc-taxi-trips, version 1\r\n",
      "Created version '1' of model 'nyc-taxi-trips'.\r\n"
     ]
    }
   ],
   "execution_count": 20
  }
 ],
 "metadata": {
  "kernelspec": {
   "display_name": "Python 3",
   "language": "python",
   "name": "python3"
  },
  "language_info": {
   "codemirror_mode": {
    "name": "ipython",
    "version": 2
   },
   "file_extension": ".py",
   "mimetype": "text/x-python",
   "name": "python",
   "nbconvert_exporter": "python",
   "pygments_lexer": "ipython2",
   "version": "2.7.6"
  }
 },
 "nbformat": 4,
 "nbformat_minor": 5
}
